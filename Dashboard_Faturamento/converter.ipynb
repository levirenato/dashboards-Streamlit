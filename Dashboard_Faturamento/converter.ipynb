{
 "cells": [
  {
   "cell_type": "code",
   "execution_count": 14,
   "metadata": {},
   "outputs": [
    {
     "data": {
      "text/plain": [
       "25653.09"
      ]
     },
     "execution_count": 14,
     "metadata": {},
     "output_type": "execute_result"
    }
   ],
   "source": [
    "import pandas as pd\n",
    "df = pd.read_csv(\"base_geral.csv\",sep=\";\",index_col=None)\n",
    "#itens = df['Tipo_Prod'].drop_duplicates()\n",
    "#df.groupby('Tipo_Prod')['VALOR DA VENDA'].sum().reset_index()\n",
    "\n",
    "#converter = pd.read_excel(\"Grafico forecast.xlsx\", sheet_name=0)\n",
    "#converter.to_csv('base.csv',sep=';', index=False)\n",
    "#convr = pd.read_excel(\"Grafico forecast.xlsx\", sheet_name=1)\n",
    "#convr.to_csv('base_geral.csv',sep=';', index=False)\n",
    "df_g = df.query(\"PERIODO == '{}'\".format('1ª SEMANA'))\n",
    "\n",
    "float(df_g.query(\"PRODUTO =='{}'\".format('ALÇA - 5 LITROS - DIVERSOS'))[\"VALOR DA VENDA\"])"
   ]
  }
 ],
 "metadata": {
  "kernelspec": {
   "display_name": "venv",
   "language": "python",
   "name": "python3"
  },
  "language_info": {
   "codemirror_mode": {
    "name": "ipython",
    "version": 3
   },
   "file_extension": ".py",
   "mimetype": "text/x-python",
   "name": "python",
   "nbconvert_exporter": "python",
   "pygments_lexer": "ipython3",
   "version": "3.11.1"
  },
  "orig_nbformat": 4,
  "vscode": {
   "interpreter": {
    "hash": "8273d2ec15b4130717dcb0254d0cd66bf699d08f6b93a52fe00d90a89248604c"
   }
  }
 },
 "nbformat": 4,
 "nbformat_minor": 2
}
